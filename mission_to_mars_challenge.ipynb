{
 "cells": [
  {
   "cell_type": "code",
   "execution_count": 20,
   "id": "68053e5f-03d1-4f04-b924-f4c2ad034b6a",
   "metadata": {},
   "outputs": [],
   "source": [
    "from splinter import Browser\n",
    "from bs4 import BeautifulSoup as soup\n",
    "from webdriver_manager.chrome import ChromeDriverManager\n",
    "import pandas as pd\n",
    "from pprint import pprint"
   ]
  },
  {
   "cell_type": "code",
   "execution_count": 21,
   "id": "df011846-a351-4a8a-a321-c238995887dc",
   "metadata": {},
   "outputs": [
    {
     "name": "stderr",
     "output_type": "stream",
     "text": [
      "\n",
      "\n",
      "====== WebDriver manager ======\n",
      "Current google-chrome version is 97.0.4692\n",
      "Get LATEST chromedriver version for 97.0.4692 google-chrome\n",
      "Driver [C:\\Users\\espoe\\.wdm\\drivers\\chromedriver\\win32\\97.0.4692.71\\chromedriver.exe] found in cache\n"
     ]
    }
   ],
   "source": [
    "executable_path = {'executable_path': ChromeDriverManager().install()}\n",
    "browser = Browser('chrome', **executable_path, headless=False)"
   ]
  },
  {
   "cell_type": "markdown",
   "id": "4c3bd530-6645-4850-ba8f-1abf1d83ba83",
   "metadata": {},
   "source": [
    "### Scrape the news site"
   ]
  },
  {
   "cell_type": "code",
   "execution_count": 3,
   "id": "7b27db4f-877e-41f2-9057-553db75e849e",
   "metadata": {},
   "outputs": [
    {
     "data": {
      "text/plain": [
       "True"
      ]
     },
     "execution_count": 3,
     "metadata": {},
     "output_type": "execute_result"
    }
   ],
   "source": [
    "url = 'http://redplanetscience.com'\n",
    "browser.visit(url)\n",
    "#optional delay for loading the page.  looks for tag/attrib combo and waits before query to ensure full page loads first\n",
    "browser.is_element_present_by_css('div.list_text', wait_time=1)"
   ]
  },
  {
   "cell_type": "code",
   "execution_count": 4,
   "id": "2a0e7bb0-4eda-4b24-9eb5-dbd9861159bf",
   "metadata": {},
   "outputs": [],
   "source": [
    "html = browser.html\n",
    "news_soup = soup(html, 'html.parser')\n",
    "slide_elem = news_soup.select_one('div.list_text')"
   ]
  },
  {
   "cell_type": "code",
   "execution_count": 5,
   "id": "0c8dc016-8c15-4ed8-b1cb-3b34bd8d270a",
   "metadata": {},
   "outputs": [
    {
     "data": {
      "text/plain": [
       "\"Common Questions about InSight's 'Mole'\""
      ]
     },
     "execution_count": 5,
     "metadata": {},
     "output_type": "execute_result"
    }
   ],
   "source": [
    "news_title = slide_elem.find('div', class_='content_title').get_text()\n",
    "news_title"
   ]
  },
  {
   "cell_type": "code",
   "execution_count": 6,
   "id": "bdb73656-6cdc-459e-b785-46a52e57b3d7",
   "metadata": {},
   "outputs": [
    {
     "data": {
      "text/plain": [
       "'The following Q&As with members of the team answer some of the most common questions about the burrowing device, part of a science instrument called the Heat Flow and Physical Properties Package (HP3).'"
      ]
     },
     "execution_count": 6,
     "metadata": {},
     "output_type": "execute_result"
    }
   ],
   "source": [
    "news_p = slide_elem.find('div', class_='article_teaser_body').get_text()\n",
    "news_p"
   ]
  },
  {
   "cell_type": "markdown",
   "id": "8d916571-ff19-404c-90a8-5e551ef2b53b",
   "metadata": {},
   "source": [
    "### Scrape the space image site"
   ]
  },
  {
   "cell_type": "code",
   "execution_count": 7,
   "id": "856b0e80-4c79-496e-b80a-3e6a70522433",
   "metadata": {},
   "outputs": [],
   "source": [
    "url = 'http://spaceimages-mars.com'\n",
    "browser.visit(url)"
   ]
  },
  {
   "cell_type": "code",
   "execution_count": 8,
   "id": "3aff128b-2734-4516-9518-3dbccf46e27d",
   "metadata": {},
   "outputs": [],
   "source": [
    "# Find by tag is a different way to dig up tags!  neat.\n",
    "full_image_elem = browser.find_by_tag('button')[1]\n",
    "full_image_elem.click()"
   ]
  },
  {
   "cell_type": "code",
   "execution_count": 9,
   "id": "34ced161-14cb-435a-9d00-a00a6f334f8b",
   "metadata": {},
   "outputs": [],
   "source": [
    "# parse this page\n",
    "html = browser.html\n",
    "img_soup = soup(html, 'html.parser')"
   ]
  },
  {
   "cell_type": "code",
   "execution_count": 10,
   "id": "86ccd442-84a0-43f3-ad5c-6bf10e8d5b64",
   "metadata": {},
   "outputs": [
    {
     "data": {
      "text/plain": [
       "'image/featured/mars2.jpg'"
      ]
     },
     "execution_count": 10,
     "metadata": {},
     "output_type": "execute_result"
    }
   ],
   "source": [
    "# grab relative url of first image\n",
    "img_url_rel = img_soup.find('img', class_=\"fancybox-image\").get(\"src\")\n",
    "img_url_rel"
   ]
  },
  {
   "cell_type": "code",
   "execution_count": 11,
   "id": "72bd6a59-5336-4738-bf32-c98224e632f4",
   "metadata": {},
   "outputs": [
    {
     "data": {
      "text/plain": [
       "'http://spaceimages-mars.com/image/featured/mars2.jpg'"
      ]
     },
     "execution_count": 11,
     "metadata": {},
     "output_type": "execute_result"
    }
   ],
   "source": [
    "img_url = f'{url}/{img_url_rel}'\n",
    "img_url"
   ]
  },
  {
   "cell_type": "code",
   "execution_count": 12,
   "id": "5badf950-7bd3-4364-b67c-47fbd32802d6",
   "metadata": {},
   "outputs": [
    {
     "data": {
      "text/html": [
       "<div>\n",
       "<style scoped>\n",
       "    .dataframe tbody tr th:only-of-type {\n",
       "        vertical-align: middle;\n",
       "    }\n",
       "\n",
       "    .dataframe tbody tr th {\n",
       "        vertical-align: top;\n",
       "    }\n",
       "\n",
       "    .dataframe thead th {\n",
       "        text-align: right;\n",
       "    }\n",
       "</style>\n",
       "<table border=\"1\" class=\"dataframe\">\n",
       "  <thead>\n",
       "    <tr style=\"text-align: right;\">\n",
       "      <th></th>\n",
       "      <th>Mars</th>\n",
       "      <th>Earth</th>\n",
       "    </tr>\n",
       "    <tr>\n",
       "      <th>description</th>\n",
       "      <th></th>\n",
       "      <th></th>\n",
       "    </tr>\n",
       "  </thead>\n",
       "  <tbody>\n",
       "    <tr>\n",
       "      <th>Mars - Earth Comparison</th>\n",
       "      <td>Mars</td>\n",
       "      <td>Earth</td>\n",
       "    </tr>\n",
       "    <tr>\n",
       "      <th>Diameter:</th>\n",
       "      <td>6,779 km</td>\n",
       "      <td>12,742 km</td>\n",
       "    </tr>\n",
       "    <tr>\n",
       "      <th>Mass:</th>\n",
       "      <td>6.39 × 10^23 kg</td>\n",
       "      <td>5.97 × 10^24 kg</td>\n",
       "    </tr>\n",
       "    <tr>\n",
       "      <th>Moons:</th>\n",
       "      <td>2</td>\n",
       "      <td>1</td>\n",
       "    </tr>\n",
       "    <tr>\n",
       "      <th>Distance from Sun:</th>\n",
       "      <td>227,943,824 km</td>\n",
       "      <td>149,598,262 km</td>\n",
       "    </tr>\n",
       "    <tr>\n",
       "      <th>Length of Year:</th>\n",
       "      <td>687 Earth days</td>\n",
       "      <td>365.24 days</td>\n",
       "    </tr>\n",
       "    <tr>\n",
       "      <th>Temperature:</th>\n",
       "      <td>-87 to -5 °C</td>\n",
       "      <td>-88 to 58°C</td>\n",
       "    </tr>\n",
       "  </tbody>\n",
       "</table>\n",
       "</div>"
      ],
      "text/plain": [
       "                                    Mars            Earth\n",
       "description                                              \n",
       "Mars - Earth Comparison             Mars            Earth\n",
       "Diameter:                       6,779 km        12,742 km\n",
       "Mass:                    6.39 × 10^23 kg  5.97 × 10^24 kg\n",
       "Moons:                                 2                1\n",
       "Distance from Sun:        227,943,824 km   149,598,262 km\n",
       "Length of Year:           687 Earth days      365.24 days\n",
       "Temperature:                -87 to -5 °C      -88 to 58°C"
      ]
     },
     "execution_count": 12,
     "metadata": {},
     "output_type": "execute_result"
    }
   ],
   "source": [
    "# Read fact table using pandas read_html()\n",
    "df = pd.read_html('https://galaxyfacts-mars.com')[0]\n",
    "df.columns = ['description', 'Mars', 'Earth']\n",
    "df.set_index('description', inplace=True)\n",
    "df"
   ]
  },
  {
   "cell_type": "code",
   "execution_count": 13,
   "id": "aeab85a6-ca54-4825-9145-99e0d6b9bad6",
   "metadata": {},
   "outputs": [
    {
     "name": "stdout",
     "output_type": "stream",
     "text": [
      "('<table border=\"1\" class=\"dataframe\">\\n'\n",
      " '  <thead>\\n'\n",
      " '    <tr style=\"text-align: right;\">\\n'\n",
      " '      <th></th>\\n'\n",
      " '      <th>Mars</th>\\n'\n",
      " '      <th>Earth</th>\\n'\n",
      " '    </tr>\\n'\n",
      " '    <tr>\\n'\n",
      " '      <th>description</th>\\n'\n",
      " '      <th></th>\\n'\n",
      " '      <th></th>\\n'\n",
      " '    </tr>\\n'\n",
      " '  </thead>\\n'\n",
      " '  <tbody>\\n'\n",
      " '    <tr>\\n'\n",
      " '      <th>Mars - Earth Comparison</th>\\n'\n",
      " '      <td>Mars</td>\\n'\n",
      " '      <td>Earth</td>\\n'\n",
      " '    </tr>\\n'\n",
      " '    <tr>\\n'\n",
      " '      <th>Diameter:</th>\\n'\n",
      " '      <td>6,779 km</td>\\n'\n",
      " '      <td>12,742 km</td>\\n'\n",
      " '    </tr>\\n'\n",
      " '    <tr>\\n'\n",
      " '      <th>Mass:</th>\\n'\n",
      " '      <td>6.39 × 10^23 kg</td>\\n'\n",
      " '      <td>5.97 × 10^24 kg</td>\\n'\n",
      " '    </tr>\\n'\n",
      " '    <tr>\\n'\n",
      " '      <th>Moons:</th>\\n'\n",
      " '      <td>2</td>\\n'\n",
      " '      <td>1</td>\\n'\n",
      " '    </tr>\\n'\n",
      " '    <tr>\\n'\n",
      " '      <th>Distance from Sun:</th>\\n'\n",
      " '      <td>227,943,824 km</td>\\n'\n",
      " '      <td>149,598,262 km</td>\\n'\n",
      " '    </tr>\\n'\n",
      " '    <tr>\\n'\n",
      " '      <th>Length of Year:</th>\\n'\n",
      " '      <td>687 Earth days</td>\\n'\n",
      " '      <td>365.24 days</td>\\n'\n",
      " '    </tr>\\n'\n",
      " '    <tr>\\n'\n",
      " '      <th>Temperature:</th>\\n'\n",
      " '      <td>-87 to -5 °C</td>\\n'\n",
      " '      <td>-88 to 58°C</td>\\n'\n",
      " '    </tr>\\n'\n",
      " '  </tbody>\\n'\n",
      " '</table>')\n"
     ]
    }
   ],
   "source": [
    "# convert table back to html\n",
    "pprint(df.to_html())"
   ]
  },
  {
   "cell_type": "code",
   "execution_count": 14,
   "id": "e8ee32c4-2cfa-4b7d-84b0-5c6594ce27fa",
   "metadata": {},
   "outputs": [],
   "source": [
    "# close the durn session!\n",
    "# browser.quit()"
   ]
  },
  {
   "cell_type": "code",
   "execution_count": null,
   "id": "ebb635fb-4b59-43b7-83bb-60ce39702d4a",
   "metadata": {},
   "outputs": [],
   "source": []
  },
  {
   "cell_type": "markdown",
   "id": "e8013631-6c10-4617-9fc9-3e79b41d067a",
   "metadata": {},
   "source": [
    "# D1: Scrape High-Resolution Mars’ Hemisphere Images and Titles"
   ]
  },
  {
   "cell_type": "markdown",
   "id": "bac17983-3497-45bd-acf0-7dc6324f2853",
   "metadata": {},
   "source": [
    "### Hemispheres"
   ]
  },
  {
   "cell_type": "code",
   "execution_count": 125,
   "id": "7650091f-a4d4-4120-a72b-98ffe70532fc",
   "metadata": {},
   "outputs": [],
   "source": []
  },
  {
   "cell_type": "code",
   "execution_count": 136,
   "id": "14b1f1d9-93f1-4a7a-b2c8-1c2b1b1dc158",
   "metadata": {},
   "outputs": [
    {
     "name": "stdout",
     "output_type": "stream",
     "text": [
      "0\n",
      "1\n",
      "None\n",
      "2\n",
      "3\n",
      "None\n",
      "4\n",
      "5\n",
      "None\n",
      "6\n",
      "7\n",
      "None\n"
     ]
    }
   ],
   "source": [
    "# 1. Use browser to visit the URL \n",
    "url = 'https://marshemispheres.com/'\n",
    "\n",
    "browser.visit(url)\n",
    "\n",
    "# 2. Create a list to hold the images and titles.\n",
    "hemisphere_image_urls = []\n",
    "\n",
    "# 3. Write code to retrieve the image urls and titles for each hemisphere.\n",
    "html = browser.html\n",
    "hemisphere_soup = soup(html, 'html.parser')\n",
    "results_elem = hemisphere_soup.select_one('div.results')\n",
    "\n",
    "# print(results_elem)\n",
    "\n",
    "results = results_elem.find_all('a')\n",
    "\n",
    "i=0\n",
    "for result in results:\n",
    "    print(i)\n",
    "    i += 1\n",
    "\n",
    "    \n",
    "    # only generate results where headers are found\n",
    "    if result.find_all(\"h3\"):\n",
    "        header = result.find_all('h3')[0].string\n",
    "        link = result.get('href')\n",
    "\n",
    "        browser.visit(url + link)\n",
    "        browser.is_element_present_by_css('div.wide-image-wrapper', wait_time=5)\n",
    "        \n",
    "        img_url = hemisphere_soup.select_one('div.wide-image-wrapper')\n",
    "        print(img_url)\n",
    "    \n",
    "# for result in results_elem:\n",
    "#     header = results_elem.select('h3')\n",
    "#     print(header)\n",
    "\n",
    "# headers = results_elem.select('h3')\n",
    "# links = results_elem.select('a.itemLink')\n",
    "\n",
    "# for link in links:\n",
    "#     img_dict = {}\n",
    "    \n",
    "#     link_url = link.get('href')\n",
    "#     link_header = link.select('h3')\n",
    "    \n",
    "#     if link_url != None and len(link_header) > 0:\n",
    "#         link_header_text = link_header[0]\n",
    "#         print(link_header_text)\n",
    "                              \n",
    "#         hemisphere_image_urls.append({'link_url':link_url, 'link_header':link_header_text})\n",
    "#         print('ye')\n",
    "#     else:\n",
    "#         print('ne')\n",
    "    \n",
    "# print(hemisphere_image_urls)\n",
    "    \n",
    "# print(headers)\n",
    "# print(urls)"
   ]
  },
  {
   "cell_type": "code",
   "execution_count": 47,
   "id": "7ec59b48-7172-4f0f-ac7c-fd4125490188",
   "metadata": {},
   "outputs": [
    {
     "data": {
      "text/plain": [
       "[]"
      ]
     },
     "execution_count": 47,
     "metadata": {},
     "output_type": "execute_result"
    }
   ],
   "source": [
    "# 4. Print the list that holds the dictionary of each image url and title.\n",
    "hemisphere_image_urls"
   ]
  },
  {
   "cell_type": "code",
   "execution_count": 18,
   "id": "f291f37b-8c5d-4256-86f3-8894a210f0cd",
   "metadata": {},
   "outputs": [],
   "source": [
    "# 5. Quit the browser\n",
    "browser.quit()"
   ]
  }
 ],
 "metadata": {
  "kernelspec": {
   "display_name": "PythonData",
   "language": "python",
   "name": "pythondata"
  },
  "language_info": {
   "codemirror_mode": {
    "name": "ipython",
    "version": 3
   },
   "file_extension": ".py",
   "mimetype": "text/x-python",
   "name": "python",
   "nbconvert_exporter": "python",
   "pygments_lexer": "ipython3",
   "version": "3.7.11"
  }
 },
 "nbformat": 4,
 "nbformat_minor": 5
}
